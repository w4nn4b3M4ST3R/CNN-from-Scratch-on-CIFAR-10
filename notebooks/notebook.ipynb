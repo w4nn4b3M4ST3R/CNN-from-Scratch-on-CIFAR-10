{
 "cells": [
  {
   "cell_type": "markdown",
   "id": "4237424f",
   "metadata": {},
   "source": [
    "# CNN from Scratch on CIFAR-10"
   ]
  },
  {
   "cell_type": "markdown",
   "id": "256dee8e",
   "metadata": {},
   "source": [
    "### Import libraries and frameworks"
   ]
  },
  {
   "cell_type": "code",
   "execution_count": 1,
   "id": "f47080a8",
   "metadata": {},
   "outputs": [],
   "source": [
    "import torch\n",
    "from torchvision.datasets import CIFAR10\n",
    "import torchvision.transforms as transforms\n",
    "import os\n",
    "import torch.nn as nn\n",
    "from tqdm import tqdm\n",
    "from torchinfo import summary\n",
    "from sklearn.model_selection import StratifiedShuffleSplit\n",
    "import matplotlib.pyplot as plt\n",
    "\n",
    "device = torch.device(\"cuda\")\n",
    "torch.random.manual_seed(42)\n",
    "torch.cuda.manual_seed(42)"
   ]
  },
  {
   "cell_type": "markdown",
   "id": "2499a744",
   "metadata": {},
   "source": [
    "### Preparing Data"
   ]
  },
  {
   "cell_type": "code",
   "execution_count": 2,
   "id": "ea1669d6",
   "metadata": {},
   "outputs": [
    {
     "name": "stdout",
     "output_type": "stream",
     "text": [
      "Files already downloaded and verified\n",
      "Files already downloaded and verified\n"
     ]
    }
   ],
   "source": [
    "os.makedirs(name=\"dataset\",exist_ok=True)\n",
    "\n",
    "transform = transforms.Compose([\n",
    "    transforms.RandomHorizontalFlip(),\n",
    "    transforms.RandomCrop(32, padding=4),\n",
    "    transforms.ToTensor(),\n",
    "    transforms.Normalize(\n",
    "                mean=[0.4914, 0.4822, 0.4465],\n",
    "                std=[0.2023, 0.1994, 0.2010],\n",
    "            ),\n",
    "])\n",
    "\n",
    "full_train_ds = CIFAR10(root = \"dataset/train\",\n",
    "                    train=True,\n",
    "                    transform=transform,\n",
    "                    download=True)\n",
    "test_ds = CIFAR10(root = \"dataset/test\",\n",
    "                  train=False,\n",
    "                  transform=transform,\n",
    "                  download=True,)\n",
    "\n",
    "sss = StratifiedShuffleSplit(n_splits=1,test_size=0.2,random_state=42)\n",
    "train_indices, val_indices = next(sss.split(full_train_ds.data, full_train_ds.targets))\n",
    "\n",
    "train_ds = torch.utils.data.Subset(full_train_ds, train_indices)\n",
    "val_ds = torch.utils.data.Subset(full_train_ds,val_indices)\n",
    "\n",
    "train_loader = torch.utils.data.DataLoader(train_ds,batch_size=128,shuffle=True,num_workers=4)\n",
    "test_loader = torch.utils.data.DataLoader(test_ds,batch_size=128, shuffle=False,num_workers=4)\n",
    "val_loader = torch.utils.data.DataLoader(val_ds, batch_size=128, shuffle=False,num_workers=4)"
   ]
  },
  {
   "cell_type": "markdown",
   "id": "f7745fa2",
   "metadata": {},
   "source": [
    "### Define Model"
   ]
  },
  {
   "cell_type": "code",
   "execution_count": 3,
   "id": "eee6526c",
   "metadata": {},
   "outputs": [],
   "source": [
    "def conv_block (c_in:int, c_out:int):\n",
    "    return nn.Sequential(\n",
    "        nn.Conv2d(c_in, c_out, kernel_size= 3, padding=1, bias=False),\n",
    "        nn.BatchNorm2d(c_out),\n",
    "        nn.ReLU(inplace=True),\n",
    "    )\n",
    "\n",
    "class MyNet(nn.Module):\n",
    "    def __init__(self, n_classes = 10, base_channels = 64, dropout = 0.3):\n",
    "        super().__init__()\n",
    "        self.net = nn.Sequential(\n",
    "            conv_block(3,base_channels),\n",
    "\n",
    "            conv_block(base_channels,base_channels),\n",
    "            conv_block(base_channels,base_channels*2),\n",
    "\n",
    "            nn.MaxPool2d(2),\n",
    "\n",
    "            conv_block(base_channels*2, base_channels*2),\n",
    "            conv_block(base_channels*2, base_channels*4),\n",
    "\n",
    "            nn.MaxPool2d(2),\n",
    "\n",
    "            conv_block(base_channels*4,base_channels*4),\n",
    "            conv_block(base_channels*4,base_channels*4),\n",
    "\n",
    "            nn.AdaptiveAvgPool2d(1),\n",
    "            nn.Flatten(),\n",
    "\n",
    "            nn.Dropout(dropout),\n",
    "            nn.Linear(base_channels*4, n_classes),\n",
    "        )\n",
    "\n",
    "        for m in self.modules():\n",
    "            if isinstance(m, nn.Conv2d):\n",
    "                nn.init.kaiming_normal_(m.weight, nonlinearity='relu')\n",
    "            elif isinstance(m, nn.Linear):\n",
    "                nn.init.xavier_uniform_(m.weight)\n",
    "                if m.bias is not None:\n",
    "                    nn.init.zeros_(m.bias)\n",
    "\n",
    "    def forward(self, X):\n",
    "        return self.net(X)\n",
    "\n",
    "\n"
   ]
  },
  {
   "cell_type": "code",
   "execution_count": 4,
   "id": "06185903",
   "metadata": {},
   "outputs": [
    {
     "data": {
      "text/plain": [
       "============================================================================================================================================\n",
       "Layer (type:depth-idx)                   Input Shape               Output Shape              Param #                   Trainable\n",
       "============================================================================================================================================\n",
       "MyNet                                    [1, 3, 32, 32]            [1, 10]                   --                        True\n",
       "├─Sequential: 1-1                        [1, 3, 32, 32]            [1, 10]                   --                        True\n",
       "│    └─Sequential: 2-1                   [1, 3, 32, 32]            [1, 64, 32, 32]           --                        True\n",
       "│    │    └─Conv2d: 3-1                  [1, 3, 32, 32]            [1, 64, 32, 32]           1,728                     True\n",
       "│    │    └─BatchNorm2d: 3-2             [1, 64, 32, 32]           [1, 64, 32, 32]           128                       True\n",
       "│    │    └─ReLU: 3-3                    [1, 64, 32, 32]           [1, 64, 32, 32]           --                        --\n",
       "│    └─Sequential: 2-2                   [1, 64, 32, 32]           [1, 64, 32, 32]           --                        True\n",
       "│    │    └─Conv2d: 3-4                  [1, 64, 32, 32]           [1, 64, 32, 32]           36,864                    True\n",
       "│    │    └─BatchNorm2d: 3-5             [1, 64, 32, 32]           [1, 64, 32, 32]           128                       True\n",
       "│    │    └─ReLU: 3-6                    [1, 64, 32, 32]           [1, 64, 32, 32]           --                        --\n",
       "│    └─Sequential: 2-3                   [1, 64, 32, 32]           [1, 128, 32, 32]          --                        True\n",
       "│    │    └─Conv2d: 3-7                  [1, 64, 32, 32]           [1, 128, 32, 32]          73,728                    True\n",
       "│    │    └─BatchNorm2d: 3-8             [1, 128, 32, 32]          [1, 128, 32, 32]          256                       True\n",
       "│    │    └─ReLU: 3-9                    [1, 128, 32, 32]          [1, 128, 32, 32]          --                        --\n",
       "│    └─MaxPool2d: 2-4                    [1, 128, 32, 32]          [1, 128, 16, 16]          --                        --\n",
       "│    └─Sequential: 2-5                   [1, 128, 16, 16]          [1, 128, 16, 16]          --                        True\n",
       "│    │    └─Conv2d: 3-10                 [1, 128, 16, 16]          [1, 128, 16, 16]          147,456                   True\n",
       "│    │    └─BatchNorm2d: 3-11            [1, 128, 16, 16]          [1, 128, 16, 16]          256                       True\n",
       "│    │    └─ReLU: 3-12                   [1, 128, 16, 16]          [1, 128, 16, 16]          --                        --\n",
       "│    └─Sequential: 2-6                   [1, 128, 16, 16]          [1, 256, 16, 16]          --                        True\n",
       "│    │    └─Conv2d: 3-13                 [1, 128, 16, 16]          [1, 256, 16, 16]          294,912                   True\n",
       "│    │    └─BatchNorm2d: 3-14            [1, 256, 16, 16]          [1, 256, 16, 16]          512                       True\n",
       "│    │    └─ReLU: 3-15                   [1, 256, 16, 16]          [1, 256, 16, 16]          --                        --\n",
       "│    └─MaxPool2d: 2-7                    [1, 256, 16, 16]          [1, 256, 8, 8]            --                        --\n",
       "│    └─Sequential: 2-8                   [1, 256, 8, 8]            [1, 256, 8, 8]            --                        True\n",
       "│    │    └─Conv2d: 3-16                 [1, 256, 8, 8]            [1, 256, 8, 8]            589,824                   True\n",
       "│    │    └─BatchNorm2d: 3-17            [1, 256, 8, 8]            [1, 256, 8, 8]            512                       True\n",
       "│    │    └─ReLU: 3-18                   [1, 256, 8, 8]            [1, 256, 8, 8]            --                        --\n",
       "│    └─Sequential: 2-9                   [1, 256, 8, 8]            [1, 256, 8, 8]            --                        True\n",
       "│    │    └─Conv2d: 3-19                 [1, 256, 8, 8]            [1, 256, 8, 8]            589,824                   True\n",
       "│    │    └─BatchNorm2d: 3-20            [1, 256, 8, 8]            [1, 256, 8, 8]            512                       True\n",
       "│    │    └─ReLU: 3-21                   [1, 256, 8, 8]            [1, 256, 8, 8]            --                        --\n",
       "│    └─AdaptiveAvgPool2d: 2-10           [1, 256, 8, 8]            [1, 256, 1, 1]            --                        --\n",
       "│    └─Flatten: 2-11                     [1, 256, 1, 1]            [1, 256]                  --                        --\n",
       "│    └─Dropout: 2-12                     [1, 256]                  [1, 256]                  --                        --\n",
       "│    └─Linear: 2-13                      [1, 256]                  [1, 10]                   2,570                     True\n",
       "============================================================================================================================================\n",
       "Total params: 1,739,210\n",
       "Trainable params: 1,739,210\n",
       "Non-trainable params: 0\n",
       "Total mult-adds (M): 303.76\n",
       "============================================================================================================================================\n",
       "Input size (MB): 0.01\n",
       "Forward/backward pass size (MB): 6.29\n",
       "Params size (MB): 6.96\n",
       "Estimated Total Size (MB): 13.26\n",
       "============================================================================================================================================"
      ]
     },
     "execution_count": 4,
     "metadata": {},
     "output_type": "execute_result"
    }
   ],
   "source": [
    "summary(model=MyNet(),\n",
    "        input_size=(1, 3, 32, 32),\n",
    "        col_names=['input_size', 'output_size', 'num_params', 'trainable'])"
   ]
  },
  {
   "cell_type": "markdown",
   "id": "a1a97f78",
   "metadata": {},
   "source": [
    "### Training"
   ]
  },
  {
   "cell_type": "code",
   "execution_count": null,
   "id": "5d24265b",
   "metadata": {},
   "outputs": [],
   "source": [
    "def train(model, loss_func, optimizer, scheduler, train_loader, valid_loader, epochs):\n",
    "    results = {\n",
    "        'train_loss': [],\n",
    "        'val_loss': [],\n",
    "        'train_acc': [],\n",
    "        'val_acc': [],\n",
    "    }\n",
    "    model.train()\n",
    "    for epoch in range(epochs):\n",
    "        train_loss = 0.0\n",
    "        train_acc = 0.0\n",
    "        for X, y in tqdm(train_loader):\n",
    "            X, y = X.to(device), y.long().to(device)\n",
    "            y_hat = model(X)\n",
    "            loss = loss_func(y_hat, y)\n",
    "            optimizer.zero_grad()\n",
    "            loss.backward()\n",
    "            optimizer.step()\n",
    "            train_loss += loss.item()\n",
    "            train_acc += (y_hat.argmax(dim=1) == y).sum().item()\n",
    "        \n",
    "        \n",
    "        with torch.inference_mode():\n",
    "            val_loss = 0.0\n",
    "            val_acc = 0.0\n",
    "            for  X, y in valid_loader:\n",
    "                X, y = X.to(device), y.long().to(device)\n",
    "                y_hat = model(X)\n",
    "                loss = loss_func(y_hat, y)\n",
    "\n",
    "                val_loss += loss.item()\n",
    "                val_acc += (y_hat.argmax(dim=1) == y).sum().item()\n",
    "        \n",
    "        \n",
    "        train_loss /= len(train_loader)\n",
    "        val_loss /= len(valid_loader)\n",
    "        train_acc /= len(train_loader.dataset)\n",
    "        val_acc /= len(valid_loader.dataset)\n",
    "\n",
    "        if scheduler is not None:\n",
    "            scheduler.step(val_acc)\n",
    "\n",
    "        results['train_loss'].append(train_loss)\n",
    "        results['val_loss'].append(val_loss)\n",
    "        results['train_acc'].append(train_acc)\n",
    "        results['val_acc'].append(val_acc)\n",
    "\n",
    "        print(f'[INFO] - Epoch: {epoch+1} | Train Loss: {train_loss:.4f} | Val Loss: {val_loss:.4f} | Train Acc: {train_acc:.4f} | Val Acc: {val_acc:.4f}')\n",
    "        \n",
    "    return results"
   ]
  },
  {
   "cell_type": "code",
   "execution_count": 6,
   "id": "9e3d858d",
   "metadata": {},
   "outputs": [],
   "source": [
    "model = MyNet().to(device)\n",
    "loss_func = nn.CrossEntropyLoss()\n",
    "optimizer = torch.optim.SGD(params = model.parameters(), lr= 1e-2, momentum = 0.9, weight_decay=1e-3)\n",
    "scheduler = torch.optim.lr_scheduler.ReduceLROnPlateau(\n",
    "optimizer=optimizer,mode='max', factor=0.5, patience=5)"
   ]
  },
  {
   "cell_type": "code",
   "execution_count": 7,
   "id": "aa066519",
   "metadata": {},
   "outputs": [
    {
     "name": "stderr",
     "output_type": "stream",
     "text": [
      "100%|██████████| 313/313 [00:49<00:00,  6.32it/s]\n"
     ]
    },
    {
     "name": "stdout",
     "output_type": "stream",
     "text": [
      "[INFO] - Epoch: 1 | Train Loss: 1.5492 | Val Loss: 1.2599 | Train Acc: 0.4268 | Val Acc: 0.5448\n"
     ]
    },
    {
     "name": "stderr",
     "output_type": "stream",
     "text": [
      "100%|██████████| 313/313 [00:46<00:00,  6.77it/s]\n"
     ]
    },
    {
     "name": "stdout",
     "output_type": "stream",
     "text": [
      "[INFO] - Epoch: 2 | Train Loss: 1.1575 | Val Loss: 1.0410 | Train Acc: 0.5845 | Val Acc: 0.6294\n"
     ]
    },
    {
     "name": "stderr",
     "output_type": "stream",
     "text": [
      "100%|██████████| 313/313 [00:39<00:00,  7.92it/s]\n"
     ]
    },
    {
     "name": "stdout",
     "output_type": "stream",
     "text": [
      "[INFO] - Epoch: 3 | Train Loss: 0.9794 | Val Loss: 0.9291 | Train Acc: 0.6521 | Val Acc: 0.6751\n"
     ]
    },
    {
     "name": "stderr",
     "output_type": "stream",
     "text": [
      "100%|██████████| 313/313 [00:48<00:00,  6.51it/s]\n"
     ]
    },
    {
     "name": "stdout",
     "output_type": "stream",
     "text": [
      "[INFO] - Epoch: 4 | Train Loss: 0.8649 | Val Loss: 0.8547 | Train Acc: 0.6953 | Val Acc: 0.6978\n"
     ]
    },
    {
     "name": "stderr",
     "output_type": "stream",
     "text": [
      "100%|██████████| 313/313 [00:39<00:00,  7.96it/s]\n"
     ]
    },
    {
     "name": "stdout",
     "output_type": "stream",
     "text": [
      "[INFO] - Epoch: 5 | Train Loss: 0.7844 | Val Loss: 0.7714 | Train Acc: 0.7245 | Val Acc: 0.7323\n"
     ]
    },
    {
     "name": "stderr",
     "output_type": "stream",
     "text": [
      "100%|██████████| 313/313 [00:36<00:00,  8.50it/s]\n"
     ]
    },
    {
     "name": "stdout",
     "output_type": "stream",
     "text": [
      "[INFO] - Epoch: 6 | Train Loss: 0.7140 | Val Loss: 0.7133 | Train Acc: 0.7526 | Val Acc: 0.7535\n"
     ]
    },
    {
     "name": "stderr",
     "output_type": "stream",
     "text": [
      "100%|██████████| 313/313 [00:36<00:00,  8.51it/s]\n"
     ]
    },
    {
     "name": "stdout",
     "output_type": "stream",
     "text": [
      "[INFO] - Epoch: 7 | Train Loss: 0.6582 | Val Loss: 0.6735 | Train Acc: 0.7718 | Val Acc: 0.7685\n"
     ]
    },
    {
     "name": "stderr",
     "output_type": "stream",
     "text": [
      "100%|██████████| 313/313 [00:37<00:00,  8.42it/s]\n"
     ]
    },
    {
     "name": "stdout",
     "output_type": "stream",
     "text": [
      "[INFO] - Epoch: 8 | Train Loss: 0.6192 | Val Loss: 0.6220 | Train Acc: 0.7859 | Val Acc: 0.7908\n"
     ]
    },
    {
     "name": "stderr",
     "output_type": "stream",
     "text": [
      "100%|██████████| 313/313 [00:38<00:00,  8.04it/s]\n"
     ]
    },
    {
     "name": "stdout",
     "output_type": "stream",
     "text": [
      "[INFO] - Epoch: 9 | Train Loss: 0.5760 | Val Loss: 0.5952 | Train Acc: 0.8012 | Val Acc: 0.7941\n"
     ]
    },
    {
     "name": "stderr",
     "output_type": "stream",
     "text": [
      "100%|██████████| 313/313 [00:38<00:00,  8.24it/s]\n"
     ]
    },
    {
     "name": "stdout",
     "output_type": "stream",
     "text": [
      "[INFO] - Epoch: 10 | Train Loss: 0.5447 | Val Loss: 0.5792 | Train Acc: 0.8132 | Val Acc: 0.8046\n"
     ]
    },
    {
     "name": "stderr",
     "output_type": "stream",
     "text": [
      "100%|██████████| 313/313 [00:37<00:00,  8.32it/s]\n"
     ]
    },
    {
     "name": "stdout",
     "output_type": "stream",
     "text": [
      "[INFO] - Epoch: 11 | Train Loss: 0.5225 | Val Loss: 0.5666 | Train Acc: 0.8192 | Val Acc: 0.8033\n"
     ]
    },
    {
     "name": "stderr",
     "output_type": "stream",
     "text": [
      "100%|██████████| 313/313 [00:37<00:00,  8.30it/s]\n"
     ]
    },
    {
     "name": "stdout",
     "output_type": "stream",
     "text": [
      "[INFO] - Epoch: 12 | Train Loss: 0.4927 | Val Loss: 0.5258 | Train Acc: 0.8312 | Val Acc: 0.8221\n"
     ]
    },
    {
     "name": "stderr",
     "output_type": "stream",
     "text": [
      "100%|██████████| 313/313 [00:36<00:00,  8.53it/s]\n"
     ]
    },
    {
     "name": "stdout",
     "output_type": "stream",
     "text": [
      "[INFO] - Epoch: 13 | Train Loss: 0.4664 | Val Loss: 0.5087 | Train Acc: 0.8413 | Val Acc: 0.8286\n"
     ]
    },
    {
     "name": "stderr",
     "output_type": "stream",
     "text": [
      "100%|██████████| 313/313 [00:38<00:00,  8.20it/s]\n"
     ]
    },
    {
     "name": "stdout",
     "output_type": "stream",
     "text": [
      "[INFO] - Epoch: 14 | Train Loss: 0.4334 | Val Loss: 0.5146 | Train Acc: 0.8526 | Val Acc: 0.8220\n"
     ]
    },
    {
     "name": "stderr",
     "output_type": "stream",
     "text": [
      "100%|██████████| 313/313 [00:38<00:00,  8.17it/s]\n"
     ]
    },
    {
     "name": "stdout",
     "output_type": "stream",
     "text": [
      "[INFO] - Epoch: 15 | Train Loss: 0.4218 | Val Loss: 0.4855 | Train Acc: 0.8556 | Val Acc: 0.8370\n"
     ]
    },
    {
     "name": "stderr",
     "output_type": "stream",
     "text": [
      "100%|██████████| 313/313 [00:41<00:00,  7.52it/s]\n"
     ]
    },
    {
     "name": "stdout",
     "output_type": "stream",
     "text": [
      "[INFO] - Epoch: 16 | Train Loss: 0.4071 | Val Loss: 0.4563 | Train Acc: 0.8620 | Val Acc: 0.8487\n"
     ]
    },
    {
     "name": "stderr",
     "output_type": "stream",
     "text": [
      "100%|██████████| 313/313 [00:39<00:00,  7.92it/s]\n"
     ]
    },
    {
     "name": "stdout",
     "output_type": "stream",
     "text": [
      "[INFO] - Epoch: 17 | Train Loss: 0.3855 | Val Loss: 0.4544 | Train Acc: 0.8691 | Val Acc: 0.8430\n"
     ]
    },
    {
     "name": "stderr",
     "output_type": "stream",
     "text": [
      "100%|██████████| 313/313 [00:38<00:00,  8.14it/s]\n"
     ]
    },
    {
     "name": "stdout",
     "output_type": "stream",
     "text": [
      "[INFO] - Epoch: 18 | Train Loss: 0.3698 | Val Loss: 0.4506 | Train Acc: 0.8736 | Val Acc: 0.8529\n"
     ]
    },
    {
     "name": "stderr",
     "output_type": "stream",
     "text": [
      "100%|██████████| 313/313 [00:37<00:00,  8.43it/s]\n"
     ]
    },
    {
     "name": "stdout",
     "output_type": "stream",
     "text": [
      "[INFO] - Epoch: 19 | Train Loss: 0.3563 | Val Loss: 0.4510 | Train Acc: 0.8813 | Val Acc: 0.8476\n"
     ]
    },
    {
     "name": "stderr",
     "output_type": "stream",
     "text": [
      "100%|██████████| 313/313 [00:37<00:00,  8.42it/s]\n"
     ]
    },
    {
     "name": "stdout",
     "output_type": "stream",
     "text": [
      "[INFO] - Epoch: 20 | Train Loss: 0.3410 | Val Loss: 0.4490 | Train Acc: 0.8848 | Val Acc: 0.8512\n"
     ]
    },
    {
     "name": "stderr",
     "output_type": "stream",
     "text": [
      "100%|██████████| 313/313 [00:38<00:00,  8.17it/s]\n"
     ]
    },
    {
     "name": "stdout",
     "output_type": "stream",
     "text": [
      "[INFO] - Epoch: 21 | Train Loss: 0.3281 | Val Loss: 0.4153 | Train Acc: 0.8899 | Val Acc: 0.8594\n"
     ]
    },
    {
     "name": "stderr",
     "output_type": "stream",
     "text": [
      "100%|██████████| 313/313 [00:45<00:00,  6.84it/s]\n"
     ]
    },
    {
     "name": "stdout",
     "output_type": "stream",
     "text": [
      "[INFO] - Epoch: 22 | Train Loss: 0.3164 | Val Loss: 0.4383 | Train Acc: 0.8918 | Val Acc: 0.8551\n"
     ]
    },
    {
     "name": "stderr",
     "output_type": "stream",
     "text": [
      "100%|██████████| 313/313 [00:41<00:00,  7.62it/s]\n"
     ]
    },
    {
     "name": "stdout",
     "output_type": "stream",
     "text": [
      "[INFO] - Epoch: 23 | Train Loss: 0.3085 | Val Loss: 0.4147 | Train Acc: 0.8963 | Val Acc: 0.8587\n"
     ]
    },
    {
     "name": "stderr",
     "output_type": "stream",
     "text": [
      "100%|██████████| 313/313 [00:37<00:00,  8.30it/s]\n"
     ]
    },
    {
     "name": "stdout",
     "output_type": "stream",
     "text": [
      "[INFO] - Epoch: 24 | Train Loss: 0.2922 | Val Loss: 0.4154 | Train Acc: 0.9019 | Val Acc: 0.8569\n"
     ]
    },
    {
     "name": "stderr",
     "output_type": "stream",
     "text": [
      "100%|██████████| 313/313 [00:45<00:00,  6.95it/s]\n"
     ]
    },
    {
     "name": "stdout",
     "output_type": "stream",
     "text": [
      "[INFO] - Epoch: 25 | Train Loss: 0.2773 | Val Loss: 0.4003 | Train Acc: 0.9066 | Val Acc: 0.8670\n"
     ]
    },
    {
     "name": "stderr",
     "output_type": "stream",
     "text": [
      "100%|██████████| 313/313 [00:41<00:00,  7.51it/s]\n"
     ]
    },
    {
     "name": "stdout",
     "output_type": "stream",
     "text": [
      "[INFO] - Epoch: 26 | Train Loss: 0.2714 | Val Loss: 0.4039 | Train Acc: 0.9091 | Val Acc: 0.8654\n"
     ]
    },
    {
     "name": "stderr",
     "output_type": "stream",
     "text": [
      "100%|██████████| 313/313 [00:41<00:00,  7.56it/s]\n"
     ]
    },
    {
     "name": "stdout",
     "output_type": "stream",
     "text": [
      "[INFO] - Epoch: 27 | Train Loss: 0.2613 | Val Loss: 0.4030 | Train Acc: 0.9130 | Val Acc: 0.8656\n"
     ]
    },
    {
     "name": "stderr",
     "output_type": "stream",
     "text": [
      "100%|██████████| 313/313 [00:41<00:00,  7.46it/s]\n"
     ]
    },
    {
     "name": "stdout",
     "output_type": "stream",
     "text": [
      "[INFO] - Epoch: 28 | Train Loss: 0.2532 | Val Loss: 0.3975 | Train Acc: 0.9149 | Val Acc: 0.8651\n"
     ]
    },
    {
     "name": "stderr",
     "output_type": "stream",
     "text": [
      "100%|██████████| 313/313 [00:40<00:00,  7.75it/s]\n"
     ]
    },
    {
     "name": "stdout",
     "output_type": "stream",
     "text": [
      "[INFO] - Epoch: 29 | Train Loss: 0.2414 | Val Loss: 0.3909 | Train Acc: 0.9186 | Val Acc: 0.8691\n"
     ]
    },
    {
     "name": "stderr",
     "output_type": "stream",
     "text": [
      "100%|██████████| 313/313 [00:37<00:00,  8.38it/s]\n"
     ]
    },
    {
     "name": "stdout",
     "output_type": "stream",
     "text": [
      "[INFO] - Epoch: 30 | Train Loss: 0.2352 | Val Loss: 0.3860 | Train Acc: 0.9209 | Val Acc: 0.8689\n"
     ]
    },
    {
     "name": "stderr",
     "output_type": "stream",
     "text": [
      "100%|██████████| 313/313 [00:43<00:00,  7.17it/s]\n"
     ]
    },
    {
     "name": "stdout",
     "output_type": "stream",
     "text": [
      "[INFO] - Epoch: 31 | Train Loss: 0.2260 | Val Loss: 0.3782 | Train Acc: 0.9247 | Val Acc: 0.8754\n"
     ]
    },
    {
     "name": "stderr",
     "output_type": "stream",
     "text": [
      "100%|██████████| 313/313 [00:43<00:00,  7.23it/s]\n"
     ]
    },
    {
     "name": "stdout",
     "output_type": "stream",
     "text": [
      "[INFO] - Epoch: 32 | Train Loss: 0.2200 | Val Loss: 0.3840 | Train Acc: 0.9273 | Val Acc: 0.8729\n"
     ]
    },
    {
     "name": "stderr",
     "output_type": "stream",
     "text": [
      "100%|██████████| 313/313 [00:47<00:00,  6.61it/s]\n"
     ]
    },
    {
     "name": "stdout",
     "output_type": "stream",
     "text": [
      "[INFO] - Epoch: 33 | Train Loss: 0.2112 | Val Loss: 0.3886 | Train Acc: 0.9289 | Val Acc: 0.8725\n"
     ]
    },
    {
     "name": "stderr",
     "output_type": "stream",
     "text": [
      "100%|██████████| 313/313 [00:51<00:00,  6.06it/s]\n"
     ]
    },
    {
     "name": "stdout",
     "output_type": "stream",
     "text": [
      "[INFO] - Epoch: 34 | Train Loss: 0.2034 | Val Loss: 0.3699 | Train Acc: 0.9331 | Val Acc: 0.8749\n"
     ]
    },
    {
     "name": "stderr",
     "output_type": "stream",
     "text": [
      "100%|██████████| 313/313 [00:47<00:00,  6.59it/s]\n"
     ]
    },
    {
     "name": "stdout",
     "output_type": "stream",
     "text": [
      "[INFO] - Epoch: 35 | Train Loss: 0.1978 | Val Loss: 0.3852 | Train Acc: 0.9341 | Val Acc: 0.8722\n"
     ]
    },
    {
     "name": "stderr",
     "output_type": "stream",
     "text": [
      "100%|██████████| 313/313 [00:48<00:00,  6.48it/s]\n"
     ]
    },
    {
     "name": "stdout",
     "output_type": "stream",
     "text": [
      "[INFO] - Epoch: 36 | Train Loss: 0.1981 | Val Loss: 0.3841 | Train Acc: 0.9333 | Val Acc: 0.8739\n"
     ]
    },
    {
     "name": "stderr",
     "output_type": "stream",
     "text": [
      "100%|██████████| 313/313 [00:44<00:00,  6.96it/s]\n"
     ]
    },
    {
     "name": "stdout",
     "output_type": "stream",
     "text": [
      "[INFO] - Epoch: 37 | Train Loss: 0.1819 | Val Loss: 0.3951 | Train Acc: 0.9406 | Val Acc: 0.8684\n"
     ]
    },
    {
     "name": "stderr",
     "output_type": "stream",
     "text": [
      "100%|██████████| 313/313 [00:45<00:00,  6.94it/s]\n"
     ]
    },
    {
     "name": "stdout",
     "output_type": "stream",
     "text": [
      "[INFO] - Epoch: 38 | Train Loss: 0.1270 | Val Loss: 0.3270 | Train Acc: 0.9623 | Val Acc: 0.8910\n"
     ]
    },
    {
     "name": "stderr",
     "output_type": "stream",
     "text": [
      "100%|██████████| 313/313 [00:48<00:00,  6.43it/s]\n"
     ]
    },
    {
     "name": "stdout",
     "output_type": "stream",
     "text": [
      "[INFO] - Epoch: 39 | Train Loss: 0.1041 | Val Loss: 0.3100 | Train Acc: 0.9700 | Val Acc: 0.8993\n"
     ]
    },
    {
     "name": "stderr",
     "output_type": "stream",
     "text": [
      "100%|██████████| 313/313 [00:46<00:00,  6.75it/s]\n"
     ]
    },
    {
     "name": "stdout",
     "output_type": "stream",
     "text": [
      "[INFO] - Epoch: 40 | Train Loss: 0.0978 | Val Loss: 0.3171 | Train Acc: 0.9731 | Val Acc: 0.8959\n"
     ]
    },
    {
     "name": "stderr",
     "output_type": "stream",
     "text": [
      "100%|██████████| 313/313 [00:46<00:00,  6.73it/s]\n"
     ]
    },
    {
     "name": "stdout",
     "output_type": "stream",
     "text": [
      "[INFO] - Epoch: 41 | Train Loss: 0.0896 | Val Loss: 0.3522 | Train Acc: 0.9763 | Val Acc: 0.8887\n"
     ]
    },
    {
     "name": "stderr",
     "output_type": "stream",
     "text": [
      "100%|██████████| 313/313 [00:45<00:00,  6.81it/s]\n"
     ]
    },
    {
     "name": "stdout",
     "output_type": "stream",
     "text": [
      "[INFO] - Epoch: 42 | Train Loss: 0.0830 | Val Loss: 0.3343 | Train Acc: 0.9777 | Val Acc: 0.8930\n"
     ]
    },
    {
     "name": "stderr",
     "output_type": "stream",
     "text": [
      "100%|██████████| 313/313 [00:46<00:00,  6.74it/s]\n"
     ]
    },
    {
     "name": "stdout",
     "output_type": "stream",
     "text": [
      "[INFO] - Epoch: 43 | Train Loss: 0.0817 | Val Loss: 0.3347 | Train Acc: 0.9780 | Val Acc: 0.8903\n"
     ]
    },
    {
     "name": "stderr",
     "output_type": "stream",
     "text": [
      "100%|██████████| 313/313 [00:40<00:00,  7.66it/s]\n"
     ]
    },
    {
     "name": "stdout",
     "output_type": "stream",
     "text": [
      "[INFO] - Epoch: 44 | Train Loss: 0.0816 | Val Loss: 0.3402 | Train Acc: 0.9777 | Val Acc: 0.8943\n"
     ]
    },
    {
     "name": "stderr",
     "output_type": "stream",
     "text": [
      "100%|██████████| 313/313 [00:42<00:00,  7.28it/s]\n"
     ]
    },
    {
     "name": "stdout",
     "output_type": "stream",
     "text": [
      "[INFO] - Epoch: 45 | Train Loss: 0.0764 | Val Loss: 0.3339 | Train Acc: 0.9793 | Val Acc: 0.8944\n"
     ]
    },
    {
     "name": "stderr",
     "output_type": "stream",
     "text": [
      "100%|██████████| 313/313 [00:43<00:00,  7.26it/s]\n"
     ]
    },
    {
     "name": "stdout",
     "output_type": "stream",
     "text": [
      "[INFO] - Epoch: 46 | Train Loss: 0.0548 | Val Loss: 0.2987 | Train Acc: 0.9879 | Val Acc: 0.9043\n"
     ]
    },
    {
     "name": "stderr",
     "output_type": "stream",
     "text": [
      "100%|██████████| 313/313 [00:40<00:00,  7.77it/s]\n"
     ]
    },
    {
     "name": "stdout",
     "output_type": "stream",
     "text": [
      "[INFO] - Epoch: 47 | Train Loss: 0.0472 | Val Loss: 0.3102 | Train Acc: 0.9904 | Val Acc: 0.9012\n"
     ]
    },
    {
     "name": "stderr",
     "output_type": "stream",
     "text": [
      "100%|██████████| 313/313 [00:40<00:00,  7.81it/s]\n"
     ]
    },
    {
     "name": "stdout",
     "output_type": "stream",
     "text": [
      "[INFO] - Epoch: 48 | Train Loss: 0.0457 | Val Loss: 0.3112 | Train Acc: 0.9909 | Val Acc: 0.9026\n"
     ]
    },
    {
     "name": "stderr",
     "output_type": "stream",
     "text": [
      "100%|██████████| 313/313 [00:42<00:00,  7.41it/s]\n"
     ]
    },
    {
     "name": "stdout",
     "output_type": "stream",
     "text": [
      "[INFO] - Epoch: 49 | Train Loss: 0.0423 | Val Loss: 0.3060 | Train Acc: 0.9921 | Val Acc: 0.9033\n"
     ]
    },
    {
     "name": "stderr",
     "output_type": "stream",
     "text": [
      "100%|██████████| 313/313 [00:41<00:00,  7.58it/s]\n"
     ]
    },
    {
     "name": "stdout",
     "output_type": "stream",
     "text": [
      "[INFO] - Epoch: 50 | Train Loss: 0.0393 | Val Loss: 0.3060 | Train Acc: 0.9935 | Val Acc: 0.9034\n"
     ]
    }
   ],
   "source": [
    "results = train(model, loss_func, optimizer, scheduler, train_loader, val_loader, epochs= 50)"
   ]
  },
  {
   "cell_type": "markdown",
   "id": "063393bf",
   "metadata": {},
   "source": [
    "### Testing"
   ]
  },
  {
   "cell_type": "code",
   "execution_count": 8,
   "id": "147498d6",
   "metadata": {},
   "outputs": [],
   "source": [
    "def test(model, loss_func, test_loader):\n",
    "    model.eval()\n",
    "    with torch.inference_mode():\n",
    "        test_loss = 0.0\n",
    "        test_acc = 0.0\n",
    "        for X,y in test_loader:\n",
    "            X,y = X.to(device), y.long().to(device)\n",
    "            y_hat = model(X)\n",
    "            loss = loss_func(y_hat,y)\n",
    "            test_loss += loss.item()\n",
    "            test_acc += (y_hat.argmax(dim=1) == y).sum().item()\n",
    "        \n",
    "        test_acc /= len(test_loader.dataset)\n",
    "        test_loss /= len(test_loader)\n",
    "\n",
    "        print(f\"[INFO] - Test Loss: {test_loss:.4f} | Test Accuracy: {test_acc:.4f}\")\n",
    "        \n",
    "        return {'test_loss':test_loss,\n",
    "                'test_acc': test_acc,\n",
    "                }"
   ]
  },
  {
   "cell_type": "code",
   "execution_count": 12,
   "id": "a9d04e79",
   "metadata": {},
   "outputs": [
    {
     "name": "stdout",
     "output_type": "stream",
     "text": [
      "[INFO] - Test Loss: 0.2958 | Test Accuracy: 0.9047\n"
     ]
    }
   ],
   "source": [
    "test_result = test(model, loss_func, test_loader)"
   ]
  },
  {
   "cell_type": "markdown",
   "id": "22a4da7e",
   "metadata": {},
   "source": [
    "### Visualize Results"
   ]
  },
  {
   "cell_type": "code",
   "execution_count": 10,
   "id": "8a4655fe",
   "metadata": {},
   "outputs": [],
   "source": [
    "def plot_results(results):\n",
    "    fig, axes = plt.subplots(1, 2, figsize = (12,6))\n",
    "    axes[0].plot(results['train_loss'], label='Train Loss')\n",
    "    axes[0].plot(results['val_loss'], label='Val Loss')\n",
    "    axes[1].plot(results['train_acc'], label='Train Accuracy')\n",
    "    axes[1].plot(results['val_acc'], label = 'Val Accuracy')\n",
    "\n",
    "    axes[0].set_ylabel(\"Loss\")\n",
    "    axes[1].set_ylabel(\"Accuracy\")\n",
    "\n",
    "    for i in range(2):\n",
    "        axes[i].grid(True)\n",
    "        axes[i].set_xlabel(\"Epoch\")\n",
    "        axes[i].legend()\n",
    "\n",
    "    fig.suptitle(\"Evaluation throughout epochs\", fontsize=16)\n",
    "    plt.tight_layout()\n",
    "    plt.show()"
   ]
  },
  {
   "cell_type": "code",
   "execution_count": 11,
   "id": "10f661ff",
   "metadata": {},
   "outputs": [
    {
     "data": {
      "image/png": "[encoded data removed]",
      "text/plain": [
       "<Figure size 1200x600 with 2 Axes>"
      ]
     },
     "metadata": {},
     "output_type": "display_data"
    }
   ],
   "source": [
    "plot_results(results)"
   ]
  }
 ],
 "metadata": {
  "kernelspec": {
   "display_name": "torch-dl",
   "language": "python",
   "name": "python3"
  },
  "language_info": {
   "codemirror_mode": {
    "name": "ipython",
    "version": 3
   },
   "file_extension": ".py",
   "mimetype": "text/x-python",
   "name": "python",
   "nbconvert_exporter": "python",
   "pygments_lexer": "ipython3",
   "version": "3.10.18"
  }
 },
 "nbformat": 4,
 "nbformat_minor": 5
}
